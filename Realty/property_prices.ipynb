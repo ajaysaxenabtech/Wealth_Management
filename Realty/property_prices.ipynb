{
 "cells": [
  {
   "cell_type": "code",
   "execution_count": 2,
   "id": "26f86a68",
   "metadata": {},
   "outputs": [
    {
     "name": "stdout",
     "output_type": "stream",
     "text": [
      "❌ Table not found.\n"
     ]
    }
   ],
   "source": [
    "from selenium import webdriver\n",
    "from selenium.webdriver.chrome.options import Options\n",
    "from bs4 import BeautifulSoup\n",
    "import pandas as pd\n",
    "import time\n",
    "\n",
    "# Initialize Selenium browser\n",
    "def init_driver():\n",
    "    chrome_options = Options()\n",
    "    chrome_options.add_argument(\"--headless\")\n",
    "    chrome_options.add_argument(\"--disable-gpu\")\n",
    "    driver = webdriver.Chrome(options=chrome_options)\n",
    "    return driver\n",
    "\n",
    "# Scrape locality price trends from 99acres\n",
    "def scrape_99acres_price_table(driver, url):\n",
    "    driver.get(url)\n",
    "    time.sleep(5)  # wait for JS to render\n",
    "\n",
    "    soup = BeautifulSoup(driver.page_source, \"html.parser\")\n",
    "    table = soup.find(\"table\")\n",
    "\n",
    "    if not table:\n",
    "        print(\"❌ Table not found.\")\n",
    "        return None\n",
    "\n",
    "    headers = [th.text.strip() for th in table.find_all(\"th\")]\n",
    "    rows = []\n",
    "\n",
    "    for tr in table.find_all(\"tr\")[1:]:\n",
    "        cols = [td.text.strip() for td in tr.find_all(\"td\")]\n",
    "        if cols:\n",
    "            rows.append(cols)\n",
    "\n",
    "    df = pd.DataFrame(rows, columns=headers)\n",
    "    return df\n",
    "\n",
    "# Main\n",
    "def main():\n",
    "    url = \"https://www.99acres.com/property-rates-and-price-trends-in-delhi-prffid\"\n",
    "    driver = init_driver()\n",
    "    \n",
    "    df = scrape_99acres_price_table(driver, url)\n",
    "    if df is not None:\n",
    "        df.to_csv(\"delhi_property_price_trends.csv\", index=False)\n",
    "        print(\"✅ Data saved to 'delhi_property_price_trends.csv'\")\n",
    "        print(df.head())\n",
    "    \n",
    "    driver.quit()\n",
    "\n",
    "main()\n"
   ]
  },
  {
   "cell_type": "code",
   "execution_count": null,
   "id": "323fcfb5",
   "metadata": {},
   "outputs": [],
   "source": []
  }
 ],
 "metadata": {
  "kernelspec": {
   "display_name": "mktdata_py310",
   "language": "python",
   "name": "python3"
  },
  "language_info": {
   "codemirror_mode": {
    "name": "ipython",
    "version": 3
   },
   "file_extension": ".py",
   "mimetype": "text/x-python",
   "name": "python",
   "nbconvert_exporter": "python",
   "pygments_lexer": "ipython3",
   "version": "3.10.15"
  }
 },
 "nbformat": 4,
 "nbformat_minor": 5
}
