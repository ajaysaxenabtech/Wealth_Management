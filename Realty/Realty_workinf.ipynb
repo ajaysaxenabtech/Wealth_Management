{
 "cells": [
  {
   "cell_type": "code",
   "execution_count": null,
   "id": "9a10c41d",
   "metadata": {},
   "outputs": [],
   "source": [
    "from selenium import webdriver\n",
    "from selenium.webdriver.chrome.options import Options\n",
    "from bs4 import BeautifulSoup\n",
    "import pandas as pd\n",
    "import time\n",
    "from datetime import datetime\n",
    "\n",
    "class PriceScraper99Acres:\n",
    "    def __init__(self, url):\n",
    "        self.url = url\n",
    "        self.driver = self.init_driver()\n",
    "\n",
    "    def init_driver(self)\n",
    "        chrome_options = Optins()9\n",
    "        chrome_options.add_argument\n",
    "        \n"
   ]
  }
 ],
 "metadata": {
  "kernelspec": {
   "display_name": "mktdata_py310",
   "language": "python",
   "name": "python3"
  },
  "language_info": {
   "name": "python",
   "version": "3.10.15"
  }
 },
 "nbformat": 4,
 "nbformat_minor": 5
}
